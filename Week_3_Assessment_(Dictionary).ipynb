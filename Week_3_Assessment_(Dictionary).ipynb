{
  "nbformat": 4,
  "nbformat_minor": 0,
  "metadata": {
    "colab": {
      "name": "Week-3 Assessment (Dictionary).ipynb",
      "provenance": []
    },
    "kernelspec": {
      "name": "python3",
      "display_name": "Python 3"
    },
    "language_info": {
      "name": "python"
    }
  },
  "cells": [
    {
      "cell_type": "markdown",
      "source": [
        "Negative Indexing in Dictionary"
      ],
      "metadata": {
        "id": "BYAIo1YZYSoA"
      }
    },
    {
      "cell_type": "code",
      "source": [
        "dict={'Shivam':1,'Sharma':2,'From':3,'Vaijapur':4}\n",
        "new=list(dict.items())\n",
        "print(new[-1])\n",
        "print(new[-3])"
      ],
      "metadata": {
        "colab": {
          "base_uri": "https://localhost:8080/"
        },
        "id": "WS7VraqnYa5q",
        "outputId": "696c3baa-ceb5-4fb1-9370-2ba3b2fb3e86"
      },
      "execution_count": 8,
      "outputs": [
        {
          "output_type": "stream",
          "name": "stdout",
          "text": [
            "('Vaijapur', 4)\n",
            "('Sharma', 2)\n"
          ]
        }
      ]
    },
    {
      "cell_type": "markdown",
      "source": [
        "Slicing in Dictionary"
      ],
      "metadata": {
        "id": "fhOiqn1JYMmU"
      }
    },
    {
      "cell_type": "code",
      "execution_count": 3,
      "metadata": {
        "colab": {
          "base_uri": "https://localhost:8080/"
        },
        "id": "IOgZlaYvW6GR",
        "outputId": "7504d459-bfa8-4656-8580-7daaab172581"
      },
      "outputs": [
        {
          "output_type": "stream",
          "name": "stdout",
          "text": [
            "{1: 'hello', 2: 'how', 3: 'are', 4: 'you'}\n",
            "{1: 'hello', 2: 'how', 3: 'are'}\n"
          ]
        }
      ],
      "source": [
        "import itertools\n",
        "s={1:'hello',2:'how',3:'are',4:'you'}\n",
        "result = dict(itertools.islice(s.items(),5))\n",
        "print(result)\n",
        "result = dict(itertools.islice(s.items(),3))\n",
        "print(result)"
      ]
    },
    {
      "cell_type": "markdown",
      "source": [
        "Indexing in Dictionary"
      ],
      "metadata": {
        "id": "jF78bweZXs_T"
      }
    },
    {
      "cell_type": "code",
      "source": [
        "initial = {\"my\": 1, \"yours\": 2}\n",
        "\n",
        "new = list(initial)\n",
        "\n",
        "value= new[0]\n",
        "\n",
        "print(value)"
      ],
      "metadata": {
        "colab": {
          "base_uri": "https://localhost:8080/"
        },
        "id": "BZEMae_kXtGZ",
        "outputId": "a89c9cd6-5f88-4250-ea9f-ea0058517104"
      },
      "execution_count": 5,
      "outputs": [
        {
          "output_type": "stream",
          "name": "stdout",
          "text": [
            "my\n"
          ]
        }
      ]
    }
  ]
}