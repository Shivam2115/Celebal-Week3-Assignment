{
  "nbformat": 4,
  "nbformat_minor": 0,
  "metadata": {
    "colab": {
      "name": "Built-In Methods.ipynb",
      "provenance": [],
      "collapsed_sections": []
    },
    "kernelspec": {
      "name": "python3",
      "display_name": "Python 3"
    },
    "language_info": {
      "name": "python"
    }
  },
  "cells": [
    {
      "cell_type": "markdown",
      "source": [
        "List Built-In Methods"
      ],
      "metadata": {
        "id": "JXpEFN8riL-_"
      }
    },
    {
      "cell_type": "code",
      "source": [
        "initial = [22, 'Hi', 'Student', 'here','from']                  #Initial list\n",
        "initial.append( 'India' );                                      #Append Methods\n",
        "print (\"Updated List : \", initial,\"\\n\")\n"
      ],
      "metadata": {
        "colab": {
          "base_uri": "https://localhost:8080/"
        },
        "id": "0OyhUgygmpUS",
        "outputId": "cab576c8-2b7a-4ebe-ce0e-4e3d33c98131"
      },
      "execution_count": null,
      "outputs": [
        {
          "output_type": "stream",
          "name": "stdout",
          "text": [
            "Updated List :  [22, 'Hi', 'Student', 'here', 'from', 'India'] \n",
            "\n"
          ]
        }
      ]
    },
    {
      "cell_type": "code",
      "source": [
        "initial = [22, 'Hi', 'Student', 'here','from']                  #Initial list\n",
        "\n",
        "print (\"Number of 21 in list: \", initial.count(21))             #Count Methods\n",
        "print (\"Count for zara : \", initial.count('abc'),\"\\n\")"
      ],
      "metadata": {
        "colab": {
          "base_uri": "https://localhost:8080/"
        },
        "id": "dztMU2I3mw8S",
        "outputId": "cf20c1ef-ef5b-40a7-bc34-aef7bf4b0f38"
      },
      "execution_count": null,
      "outputs": [
        {
          "output_type": "stream",
          "name": "stdout",
          "text": [
            "Number of 21 in list:  0\n",
            "Count for zara :  0 \n",
            "\n"
          ]
        }
      ]
    },
    {
      "cell_type": "code",
      "source": [
        "initial = [22, 'Hi', 'Student', 'here','from']                  #Initial list\n",
        "\n",
        "print (\"Index of Hi : \", initial.index( 'Hi' ))                 #Index Methods\n",
        "print (\"Index of here : \", initial.index( 'here' ),\"\\n\") "
      ],
      "metadata": {
        "colab": {
          "base_uri": "https://localhost:8080/"
        },
        "id": "ZLKxJoiwm-TI",
        "outputId": "6ce189d2-3bf5-4c98-bf8a-30e8ba19bebd"
      },
      "execution_count": null,
      "outputs": [
        {
          "output_type": "stream",
          "name": "stdout",
          "text": [
            "Index of Hi :  1\n",
            "Index of here :  3 \n",
            "\n"
          ]
        }
      ]
    },
    {
      "cell_type": "code",
      "source": [
        "initial = [22, 'Hi', 'Student', 'here','from','India']          #Initial list\n",
        "second = ['I','am','an','Engineer']\n",
        "\n",
        "initial.extend(second)                                          #Extend Method\n",
        "print(initial)"
      ],
      "metadata": {
        "colab": {
          "base_uri": "https://localhost:8080/"
        },
        "id": "7dGQ7OP0nFrh",
        "outputId": "4463f3cd-712b-4110-826f-28f3fb9e5c13"
      },
      "execution_count": null,
      "outputs": [
        {
          "output_type": "stream",
          "name": "stdout",
          "text": [
            "[22, 'Hi', 'Student', 'here', 'from', 'I', 'am', 'an', 'Engineer']\n"
          ]
        }
      ]
    },
    {
      "cell_type": "code",
      "source": [
        "initial = [1,2,4,5,6,7,8]                                       #Initial list\n",
        "print(sum(initial))                                             #Sum Method"
      ],
      "metadata": {
        "colab": {
          "base_uri": "https://localhost:8080/"
        },
        "id": "iF8twJvhnUMn",
        "outputId": "9cecee0a-1e4b-4802-e8d8-97371cebcff0"
      },
      "execution_count": null,
      "outputs": [
        {
          "output_type": "stream",
          "name": "stdout",
          "text": [
            "33\n"
          ]
        }
      ]
    },
    {
      "cell_type": "markdown",
      "source": [
        "Tuples Built-In Methods"
      ],
      "metadata": {
        "id": "z34GEs2Nnn4i"
      }
    },
    {
      "cell_type": "code",
      "source": [
        "t1= (7,9,8,7,7,8,8,5,6,0,3,2)\n",
        "\n",
        "x = t1.count(8)\n",
        "print(\"Count of 8 in tuple\",x)                                 #Count Method"
      ],
      "metadata": {
        "id": "WvxdWrOwnvdp",
        "colab": {
          "base_uri": "https://localhost:8080/"
        },
        "outputId": "0bee30f5-10a6-4ffd-bbc1-7df2d9b4c254"
      },
      "execution_count": 20,
      "outputs": [
        {
          "output_type": "stream",
          "name": "stdout",
          "text": [
            "Count of 8 in tuple 3\n"
          ]
        }
      ]
    },
    {
      "cell_type": "code",
      "source": [
        "t1= (7,9,8,7,7,8,8,5,6,0,3,2)\n",
        "\n",
        "x = t1.index(8)\n",
        "print(\"Count of 8 in tuple\",x)                                 #Index Method"
      ],
      "metadata": {
        "id": "K2TiZjqWpxzI"
      },
      "execution_count": null,
      "outputs": []
    },
    {
      "cell_type": "markdown",
      "source": [
        "Set Built-In Methods"
      ],
      "metadata": {
        "id": "8GzBma_Fqbzp"
      }
    },
    {
      "cell_type": "code",
      "source": [
        "data = {\"abc\",\"xyz\",\"pqr\"}\n",
        "\n",
        "data.add(\"stuv\")\n",
        "print(data)                                                    #Add Method"
      ],
      "metadata": {
        "colab": {
          "base_uri": "https://localhost:8080/"
        },
        "id": "KpKRVJxvqaBY",
        "outputId": "b329f2ef-c73d-4956-c41a-12c5434b4eaa"
      },
      "execution_count": 18,
      "outputs": [
        {
          "output_type": "stream",
          "name": "stdout",
          "text": [
            "{'xyz', 'abc', 'stuv', 'pqr'}\n"
          ]
        }
      ]
    },
    {
      "cell_type": "code",
      "source": [
        "data = {1,2,3,4,5,6,7,8,9}\n",
        "\n",
        "data.pop()\n",
        "print(data)                                                    #Pop Method"
      ],
      "metadata": {
        "colab": {
          "base_uri": "https://localhost:8080/"
        },
        "id": "lm9csiwMrgwN",
        "outputId": "8fb2a951-70d5-4e99-c863-b30db3257739"
      },
      "execution_count": 26,
      "outputs": [
        {
          "output_type": "stream",
          "name": "stdout",
          "text": [
            "{2, 3, 4, 5, 6, 7, 8, 9}\n"
          ]
        }
      ]
    },
    {
      "cell_type": "code",
      "source": [
        "data = {\"abc\",\"xyz\",\"pqr\"}\n",
        "\n",
        "data.remove(\"xyz\")\n",
        "print(data)                                                    #Remove Method"
      ],
      "metadata": {
        "colab": {
          "base_uri": "https://localhost:8080/"
        },
        "id": "Cd3zTrAHtGcS",
        "outputId": "17741fae-78c7-4fb4-c8b2-b9e958513be3"
      },
      "execution_count": 28,
      "outputs": [
        {
          "output_type": "stream",
          "name": "stdout",
          "text": [
            "{'abc', 'pqr'}\n"
          ]
        }
      ]
    },
    {
      "cell_type": "code",
      "source": [
        "data = {\"abc\",\"xyz\",\"pqr\"}\n",
        "details = {\"lmn\",\"efg\"}\n",
        "\n",
        "info=data.isdisjoint(details)                                  #isdisjoint Method\n",
        "print(info)      "
      ],
      "metadata": {
        "colab": {
          "base_uri": "https://localhost:8080/"
        },
        "id": "ObfsWQL0tXhT",
        "outputId": "4c385a7d-f4d5-4151-a4e5-907135031ab1"
      },
      "execution_count": 29,
      "outputs": [
        {
          "output_type": "stream",
          "name": "stdout",
          "text": [
            "True\n"
          ]
        }
      ]
    },
    {
      "cell_type": "code",
      "source": [
        "data = {\"abc\",\"xyz\",\"pqr\"}\n",
        "details = {\"lmn\",\"efg\"}\n",
        "\n",
        "info=data.issubset(details)                                   #issubset Method\n",
        "print(info) "
      ],
      "metadata": {
        "colab": {
          "base_uri": "https://localhost:8080/"
        },
        "id": "RqIPfMGkul_8",
        "outputId": "3f2dbd02-a2cc-4f47-f3d1-fd93b23a66c4"
      },
      "execution_count": 30,
      "outputs": [
        {
          "output_type": "stream",
          "name": "stdout",
          "text": [
            "False\n"
          ]
        }
      ]
    },
    {
      "cell_type": "code",
      "source": [
        "data = {\"abc\",\"xyz\",\"pqr\"}\n",
        "details = {\"lmn\",\"efg\"}\n",
        "\n",
        "info=data.union(details)                                      #union Method\n",
        "print(info) "
      ],
      "metadata": {
        "colab": {
          "base_uri": "https://localhost:8080/"
        },
        "id": "qcvVJIsovB-t",
        "outputId": "48e9a26f-6448-483c-8a3e-441a654e7164"
      },
      "execution_count": 31,
      "outputs": [
        {
          "output_type": "stream",
          "name": "stdout",
          "text": [
            "{'efg', 'xyz', 'abc', 'lmn', 'pqr'}\n"
          ]
        }
      ]
    },
    {
      "cell_type": "markdown",
      "source": [
        "Dictionary Built-In Method"
      ],
      "metadata": {
        "id": "IhFnV1egvRGF"
      }
    },
    {
      "cell_type": "code",
      "source": [
        "details = {\"Name\":\"Shivam\",\"Age\":21,\"From\":\"Sanjivani\"}\n",
        "\n",
        "x = details.copy()                                            #Copy Method\n",
        "print(x)"
      ],
      "metadata": {
        "colab": {
          "base_uri": "https://localhost:8080/"
        },
        "id": "wiOR4--ovolG",
        "outputId": "975a0cec-f25d-4cc1-d7b7-b0197e4b7b65"
      },
      "execution_count": 33,
      "outputs": [
        {
          "output_type": "stream",
          "name": "stdout",
          "text": [
            "{'Name': 'Shivam', 'Age': 21, 'From': 'Sanjivani'}\n"
          ]
        }
      ]
    },
    {
      "cell_type": "code",
      "source": [
        "details = {\"Name\":\"Shivam\",\"Age\":21,\"From\":\"Sanjivani\"}\n",
        "\n",
        "x = details.get(\"Age\")                                        #get Method\n",
        "print(x)"
      ],
      "metadata": {
        "colab": {
          "base_uri": "https://localhost:8080/"
        },
        "id": "sn1As8rVwYGz",
        "outputId": "6f93b0c8-1dc7-4b2e-9274-356d8225b788"
      },
      "execution_count": 34,
      "outputs": [
        {
          "output_type": "stream",
          "name": "stdout",
          "text": [
            "21\n"
          ]
        }
      ]
    },
    {
      "cell_type": "code",
      "source": [
        "details = {\"Name\":\"Shivam\",\"Age\":21,\"From\":\"Sanjivani\"}\n",
        "\n",
        "x = details.keys()                                           #keys Method\n",
        "print(x)"
      ],
      "metadata": {
        "colab": {
          "base_uri": "https://localhost:8080/"
        },
        "id": "_gswsMkSwnl6",
        "outputId": "9377dffb-3737-4b9e-c7f5-ce0c30b38c7f"
      },
      "execution_count": 35,
      "outputs": [
        {
          "output_type": "stream",
          "name": "stdout",
          "text": [
            "dict_keys(['Name', 'Age', 'From'])\n"
          ]
        }
      ]
    },
    {
      "cell_type": "code",
      "source": [
        "details = {\"Name\":\"Shivam\",\"Age\":21,\"From\":\"Sanjivani\"}\n",
        "\n",
        "details.update({\"Age\": 22})                                  #update Method\n",
        "print(details)"
      ],
      "metadata": {
        "colab": {
          "base_uri": "https://localhost:8080/"
        },
        "id": "Jjl5-CGfw3dQ",
        "outputId": "0f234d53-41b3-43fa-cb73-60992f30a162"
      },
      "execution_count": 40,
      "outputs": [
        {
          "output_type": "stream",
          "name": "stdout",
          "text": [
            "{'Name': 'Shivam', 'Age': 22, 'From': 'Sanjivani'}\n"
          ]
        }
      ]
    },
    {
      "cell_type": "code",
      "source": [
        "details = {\"Name\":\"Shivam\",\"Age\":21,\"From\":\"Sanjivani\"}\n",
        "\n",
        "details.clear()                                             #clear Method\n",
        "print(details)"
      ],
      "metadata": {
        "colab": {
          "base_uri": "https://localhost:8080/"
        },
        "id": "nOY29hMgxIWn",
        "outputId": "ad5ddadf-67f3-4451-b072-79a58eefe38f"
      },
      "execution_count": 36,
      "outputs": [
        {
          "output_type": "stream",
          "name": "stdout",
          "text": [
            "{}\n"
          ]
        }
      ]
    }
  ]
}