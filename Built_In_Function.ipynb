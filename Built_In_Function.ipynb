{
  "nbformat": 4,
  "nbformat_minor": 0,
  "metadata": {
    "colab": {
      "name": "Built-In Function.ipynb",
      "provenance": [],
      "collapsed_sections": []
    },
    "kernelspec": {
      "name": "python3",
      "display_name": "Python 3"
    },
    "language_info": {
      "name": "python"
    }
  },
  "cells": [
    {
      "cell_type": "code",
      "execution_count": 9,
      "metadata": {
        "colab": {
          "base_uri": "https://localhost:8080/"
        },
        "id": "d6eVXBgWjfSi",
        "outputId": "fbcb70a7-6d3a-4df2-b34a-2e976d78962d"
      },
      "outputs": [
        {
          "output_type": "stream",
          "name": "stdout",
          "text": [
            "True\n",
            "False\n"
          ]
        }
      ],
      "source": [
        "s = bool(1)               #bool\n",
        "print(s)\n",
        "s1 = bool(0)\n",
        "print(s1)\n"
      ]
    },
    {
      "cell_type": "code",
      "source": [
        "s = bytearray(2)          #bytearray\n",
        "print(s)"
      ],
      "metadata": {
        "colab": {
          "base_uri": "https://localhost:8080/"
        },
        "id": "2QHq7GYqkiaX",
        "outputId": "940cf2c4-04e4-4e1d-8f4f-7a4a67de0d2a"
      },
      "execution_count": 11,
      "outputs": [
        {
          "output_type": "stream",
          "name": "stdout",
          "text": [
            "bytearray(b'\\x00\\x00')\n"
          ]
        }
      ]
    },
    {
      "cell_type": "code",
      "source": [
        "s = chr(97)               #chr\n",
        "print(s)\n",
        "s = chr(65)\n",
        "print(s)"
      ],
      "metadata": {
        "colab": {
          "base_uri": "https://localhost:8080/"
        },
        "id": "dg0wSI9IktMv",
        "outputId": "b0cd3eef-8d47-4d50-e104-01a21956e601"
      },
      "execution_count": 14,
      "outputs": [
        {
          "output_type": "stream",
          "name": "stdout",
          "text": [
            "a\n",
            "A\n"
          ]
        }
      ]
    },
    {
      "cell_type": "code",
      "source": [
        "s = ('I', 'am', 'Engg')   #enumerate\n",
        "s1 = enumerate(s)\n",
        "\n",
        "print(list(s1))"
      ],
      "metadata": {
        "colab": {
          "base_uri": "https://localhost:8080/"
        },
        "id": "0xZpXdrFlL7V",
        "outputId": "de107db3-7dca-484f-e31f-e42c37a1716b"
      },
      "execution_count": 15,
      "outputs": [
        {
          "output_type": "stream",
          "name": "stdout",
          "text": [
            "[(0, 'I'), (1, 'am'), (2, 'Engg')]\n"
          ]
        }
      ]
    },
    {
      "cell_type": "code",
      "source": [
        "s = ['I', 'am', 'Engg']    #frozenset\n",
        "s1 = frozenset(s)\n",
        "print(s1)"
      ],
      "metadata": {
        "colab": {
          "base_uri": "https://localhost:8080/"
        },
        "id": "x8pCJrqplfAV",
        "outputId": "916f14fb-26cb-410c-cf94-340f9c033394"
      },
      "execution_count": 16,
      "outputs": [
        {
          "output_type": "stream",
          "name": "stdout",
          "text": [
            "frozenset({'am', 'I', 'Engg'})\n"
          ]
        }
      ]
    },
    {
      "cell_type": "code",
      "source": [
        "s = [\"I\", \"am\", \"Engg\"]     #len\n",
        "s1 = len(s)\n",
        "print(s1)"
      ],
      "metadata": {
        "colab": {
          "base_uri": "https://localhost:8080/"
        },
        "id": "HbUrHqgWl59W",
        "outputId": "18746236-4493-4eef-afc0-78f31872ea09"
      },
      "execution_count": 19,
      "outputs": [
        {
          "output_type": "stream",
          "name": "stdout",
          "text": [
            "3\n"
          ]
        }
      ]
    },
    {
      "cell_type": "code",
      "source": [
        "s = pow(3, 3)               #pow\n",
        "print(s)"
      ],
      "metadata": {
        "colab": {
          "base_uri": "https://localhost:8080/"
        },
        "id": "33AKL7FAmM7N",
        "outputId": "99982fba-62a3-45c8-f352-468e9d692fdc"
      },
      "execution_count": 20,
      "outputs": [
        {
          "output_type": "stream",
          "name": "stdout",
          "text": [
            "27\n"
          ]
        }
      ]
    },
    {
      "cell_type": "code",
      "source": [
        "s = (1, 2, 3, 4, 5)         #sum\n",
        "s1= sum(s)\n",
        "print(s1)\n"
      ],
      "metadata": {
        "colab": {
          "base_uri": "https://localhost:8080/"
        },
        "id": "LcVff9Eomi_V",
        "outputId": "078791c6-7c7b-4ffb-eec4-55206fa49923"
      },
      "execution_count": 21,
      "outputs": [
        {
          "output_type": "stream",
          "name": "stdout",
          "text": [
            "15\n"
          ]
        }
      ]
    },
    {
      "cell_type": "code",
      "source": [
        "s = (\"z\", \"x\", \"a\", \"b\", \"p\", \"q\", \"h\", \"i\")\n",
        "s1 = sorted(s)              #sorted\n",
        "print(s1)"
      ],
      "metadata": {
        "colab": {
          "base_uri": "https://localhost:8080/"
        },
        "id": "IT2DgXrtnKiP",
        "outputId": "cde62cf4-8f6e-42be-ec2a-04a68ebd885f"
      },
      "execution_count": 29,
      "outputs": [
        {
          "output_type": "stream",
          "name": "stdout",
          "text": [
            "['a', 'b', 'h', 'i', 'p', 'q', 'x', 'z']\n"
          ]
        }
      ]
    },
    {
      "cell_type": "code",
      "source": [
        "s = abs(9.85)               #abs\n",
        "print(s)\n",
        "x = abs(2+7j)\n",
        "print(x)\n"
      ],
      "metadata": {
        "colab": {
          "base_uri": "https://localhost:8080/"
        },
        "id": "JCBNP9ydt-sM",
        "outputId": "1d6f9986-1fe5-4507-bc04-27f023f513d1"
      },
      "execution_count": 32,
      "outputs": [
        {
          "output_type": "stream",
          "name": "stdout",
          "text": [
            "9.85\n",
            "7.280109889280518\n"
          ]
        }
      ]
    },
    {
      "cell_type": "code",
      "source": [
        "b = (\"John\", \"Charles\", \"Mike\")   #zip\n",
        "c = (\"Jenny\", \"Christy\", \"Monica\")\n",
        "\n",
        "z = zip(b, c)\n",
        "print(tuple(z))"
      ],
      "metadata": {
        "colab": {
          "base_uri": "https://localhost:8080/"
        },
        "id": "JVnpTo13ueZ2",
        "outputId": "ab5a9a76-ab6c-4688-d84c-728fcf2603f4"
      },
      "execution_count": 33,
      "outputs": [
        {
          "output_type": "stream",
          "name": "stdout",
          "text": [
            "(('John', 'Jenny'), ('Charles', 'Christy'), ('Mike', 'Monica'))\n"
          ]
        }
      ]
    }
  ]
}