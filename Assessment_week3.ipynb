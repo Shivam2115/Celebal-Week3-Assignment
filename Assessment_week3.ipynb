{
  "nbformat": 4,
  "nbformat_minor": 0,
  "metadata": {
    "colab": {
      "name": "Assessment_week3.ipynb",
      "provenance": [],
      "collapsed_sections": []
    },
    "kernelspec": {
      "name": "python3",
      "display_name": "Python 3"
    },
    "language_info": {
      "name": "python"
    }
  },
  "cells": [
    {
      "cell_type": "markdown",
      "source": [
        "* Indexing in List and Tuple\n",
        "* Negative Indexing in List and Tuple\n",
        "* Membership Test like (in , not in) in List,Dictionary,Set and Tuple\n",
        "* Iterating For loop in List,Tuple,Set,Dictionary"
      ],
      "metadata": {
        "id": "Q5tGhckiEgmy"
      }
    },
    {
      "cell_type": "markdown",
      "source": [
        "Indexing in List"
      ],
      "metadata": {
        "id": "CTVQNXWcFUFc"
      }
    },
    {
      "cell_type": "code",
      "source": [
        "list=[\"Sanjivani\",\"College\"]\n",
        "print(list.index(\"College\"))"
      ],
      "metadata": {
        "colab": {
          "base_uri": "https://localhost:8080/"
        },
        "id": "lQgBQl7GFKQs",
        "outputId": "42d4f95d-a0be-4a39-b92f-8417c39466de"
      },
      "execution_count": null,
      "outputs": [
        {
          "output_type": "stream",
          "name": "stdout",
          "text": [
            "1\n"
          ]
        }
      ]
    },
    {
      "cell_type": "markdown",
      "source": [
        "Indexing in Tuple"
      ],
      "metadata": {
        "id": "yChCpMViFyGq"
      }
    },
    {
      "cell_type": "code",
      "source": [
        "tuple=(\"s\",\"a\",\"n\",\"j\",\"i\",\"v\",\"a\",\"n\",\"i\")\n",
        "print(tuple.index(\"i\"))\n",
        "print(tuple.index(\"a\"))"
      ],
      "metadata": {
        "colab": {
          "base_uri": "https://localhost:8080/"
        },
        "id": "zpypdilXFwb7",
        "outputId": "4588674e-64dc-4961-ce76-fa4deb45aa7e"
      },
      "execution_count": null,
      "outputs": [
        {
          "output_type": "stream",
          "name": "stdout",
          "text": [
            "4\n",
            "1\n"
          ]
        }
      ]
    },
    {
      "cell_type": "markdown",
      "source": [
        "Negative Indexing in List"
      ],
      "metadata": {
        "id": "KWWGJmLOGKyK"
      }
    },
    {
      "cell_type": "code",
      "source": [
        "det=[\"Shivam\",\"Sharma\",\"I\",\"am\",\"Engineering\"]\n",
        "print(det[-3])\n",
        "print(det[-4])"
      ],
      "metadata": {
        "colab": {
          "base_uri": "https://localhost:8080/"
        },
        "id": "e3P5HCzkHaYR",
        "outputId": "34130b8f-7c11-4567-9dc8-f391e3930591"
      },
      "execution_count": null,
      "outputs": [
        {
          "output_type": "stream",
          "name": "stdout",
          "text": [
            "I\n",
            "Sharma\n"
          ]
        }
      ]
    },
    {
      "cell_type": "markdown",
      "source": [
        "Negative Indexing in Tuple"
      ],
      "metadata": {
        "id": "B5O58HVJMhN6"
      }
    },
    {
      "cell_type": "code",
      "source": [
        "det=(\"Shivam\",\"Sharma\",\"I\",\"am\",\"Engineering\")\n",
        "print(det[-2])"
      ],
      "metadata": {
        "colab": {
          "base_uri": "https://localhost:8080/"
        },
        "id": "2ZFNMIaQMrIJ",
        "outputId": "5c9bb656-c6b1-41bc-c140-02f6298ca879"
      },
      "execution_count": null,
      "outputs": [
        {
          "output_type": "stream",
          "name": "stdout",
          "text": [
            "am\n"
          ]
        }
      ]
    },
    {
      "cell_type": "markdown",
      "source": [
        "Membership Test in List"
      ],
      "metadata": {
        "id": "VaomYIqnM5ch"
      }
    },
    {
      "cell_type": "code",
      "source": [
        "var= 9\n",
        "list=[1,2,3,4,5,6,7,8,9,10,11]\n",
        "print(var in list)        #in\n",
        "print(5 not in list)      #not in\n",
        "print(var not in list)    #not in"
      ],
      "metadata": {
        "colab": {
          "base_uri": "https://localhost:8080/"
        },
        "id": "CHcOGJA0NF3A",
        "outputId": "831e119e-8911-4dd3-e041-eef6cd62df6c"
      },
      "execution_count": null,
      "outputs": [
        {
          "output_type": "stream",
          "name": "stdout",
          "text": [
            "True\n",
            "False\n",
            "False\n"
          ]
        }
      ]
    },
    {
      "cell_type": "markdown",
      "source": [
        "Membership Test in Tuple"
      ],
      "metadata": {
        "id": "AgndTnO_NwiZ"
      }
    },
    {
      "cell_type": "code",
      "source": [
        "tuple= (5,55,55,555,5555)\n",
        "print(555 in tuple)       #in\n",
        "print(20 in tuple)        #in\n",
        "print(20 not in tuple)    #not in"
      ],
      "metadata": {
        "colab": {
          "base_uri": "https://localhost:8080/"
        },
        "id": "ff7UvWAhSlqg",
        "outputId": "a516a83f-b1ee-4ce7-b7de-e75aa752bff8"
      },
      "execution_count": null,
      "outputs": [
        {
          "output_type": "stream",
          "name": "stdout",
          "text": [
            "True\n",
            "False\n",
            "True\n"
          ]
        }
      ]
    },
    {
      "cell_type": "markdown",
      "source": [
        "Membership Test in Set"
      ],
      "metadata": {
        "id": "gb9i5XMXS-Lb"
      }
    },
    {
      "cell_type": "code",
      "source": [
        "set={1,2,3,4,5,6,7,8,9,10}\n",
        "print(7 in set)         #in\n",
        "print(3 not in set)     #not in"
      ],
      "metadata": {
        "colab": {
          "base_uri": "https://localhost:8080/"
        },
        "id": "GyqNljcaTB7T",
        "outputId": "becdd016-deef-4960-f0ba-fab88523a26d"
      },
      "execution_count": null,
      "outputs": [
        {
          "output_type": "stream",
          "name": "stdout",
          "text": [
            "True\n",
            "False\n"
          ]
        }
      ]
    },
    {
      "cell_type": "markdown",
      "source": [
        "Membership Test in Dictionary"
      ],
      "metadata": {
        "id": "cWBabxbqTe14"
      }
    },
    {
      "cell_type": "code",
      "source": [
        "d1={\"Hey\",\"Hi\",\"Hello\"}\n",
        "d2={\"how\",\"are\",\"You\"}\n",
        "\n",
        "print(\"Hi\" in d1)       #in\n",
        "print(\"are\" not in d2)  #not in"
      ],
      "metadata": {
        "colab": {
          "base_uri": "https://localhost:8080/"
        },
        "id": "N5n0XFrCTh1G",
        "outputId": "780cc7e8-a1c5-4d06-e12e-7ac9f325b492"
      },
      "execution_count": null,
      "outputs": [
        {
          "output_type": "stream",
          "name": "stdout",
          "text": [
            "True\n",
            "False\n"
          ]
        }
      ]
    },
    {
      "cell_type": "markdown",
      "source": [
        "Iterating Loop in Tuple"
      ],
      "metadata": {
        "id": "EGYTKK4SUBDA"
      }
    },
    {
      "cell_type": "code",
      "source": [
        "tuple=(\"I\",\"am\",\"an\",\"Engg\")\n",
        "\n",
        "for ele in tuple:       #for Loop\n",
        "  print(ele)"
      ],
      "metadata": {
        "colab": {
          "base_uri": "https://localhost:8080/"
        },
        "id": "7Tdk0_m9UF8o",
        "outputId": "2f25d4a3-d51e-480d-d5fe-9b5f0f6ca9e1"
      },
      "execution_count": null,
      "outputs": [
        {
          "output_type": "stream",
          "name": "stdout",
          "text": [
            "I\n",
            "am\n",
            "an\n",
            "Engg\n"
          ]
        }
      ]
    },
    {
      "cell_type": "markdown",
      "source": [
        "Iterating Loop in Set"
      ],
      "metadata": {
        "id": "ktyKswUzUTpw"
      }
    },
    {
      "cell_type": "code",
      "source": [
        "set = {\"Hi\", \"hello\", \"bye\"}\n",
        "\n",
        "for x in set:\n",
        "  print(x)"
      ],
      "metadata": {
        "colab": {
          "base_uri": "https://localhost:8080/"
        },
        "id": "Z7vz4Bu_UYLo",
        "outputId": "6ff47ff4-042d-4821-e60f-7a6abeed3e29"
      },
      "execution_count": null,
      "outputs": [
        {
          "output_type": "stream",
          "name": "stdout",
          "text": [
            "bye\n",
            "Hi\n",
            "hello\n"
          ]
        }
      ]
    },
    {
      "cell_type": "markdown",
      "source": [
        "Iterating Loop in Dictionary"
      ],
      "metadata": {
        "id": "-h_nphu9VUc3"
      }
    },
    {
      "cell_type": "code",
      "source": [
        "dict = {\"Good\":\"Morning\",\n",
        "        \"Sleepy\":\"Day\",\n",
        "        \"Sweet\":\"Evening\"}\n",
        "for ele in dict:\n",
        "  print(ele)"
      ],
      "metadata": {
        "colab": {
          "base_uri": "https://localhost:8080/"
        },
        "id": "LLZLJU37VX4Q",
        "outputId": "8ead3b2c-70eb-40fe-9082-1a44b39afdee"
      },
      "execution_count": null,
      "outputs": [
        {
          "output_type": "stream",
          "name": "stdout",
          "text": [
            "Good\n",
            "Sleepy\n",
            "Sweet\n"
          ]
        }
      ]
    },
    {
      "cell_type": "markdown",
      "source": [
        "Iterating Loop in List"
      ],
      "metadata": {
        "id": "8NeKmkV2V9s_"
      }
    },
    {
      "cell_type": "code",
      "source": [
        "list=[0,9,8,7,6,5,4,3,2,1]\n",
        "\n",
        "for ele in list:\n",
        "  print(ele) "
      ],
      "metadata": {
        "colab": {
          "base_uri": "https://localhost:8080/"
        },
        "id": "_kqpkhplWAYQ",
        "outputId": "c4dc474f-325b-44e6-b5ae-eea89b875cba"
      },
      "execution_count": null,
      "outputs": [
        {
          "output_type": "stream",
          "name": "stdout",
          "text": [
            "0\n",
            "9\n",
            "8\n",
            "7\n",
            "6\n",
            "5\n",
            "4\n",
            "3\n",
            "2\n",
            "1\n"
          ]
        }
      ]
    }
  ]
}